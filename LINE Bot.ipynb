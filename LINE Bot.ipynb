{
 "cells": [
  {
   "cell_type": "markdown",
   "id": "9252af52",
   "metadata": {},
   "source": [
    "【筆記】Flask 安裝\n",
    "https://colab.research.google.com/drive/1nNfYi5En4y_DhUCHLHstlwLay9AL_zv1?usp=sharing#scrollTo=vPbGV3q18pJb\n",
    "\n",
    "https://colab.research.google.com/drive/1nNfYi5En4y_DhUCHLHstlwLay9AL_zv1?usp=sharing#scrollTo=o67r6L9hk4LP"
   ]
  },
  {
   "cell_type": "markdown",
   "id": "50f2f72d",
   "metadata": {},
   "source": [
    "# 深度學習 - LINE Bot與WebAPI開發\n",
    "# Flask Web APP 開發"
   ]
  },
  {
   "cell_type": "markdown",
   "id": "47a76854",
   "metadata": {},
   "source": [
    "# LINE Bot機器人申請與架設"
   ]
  },
  {
   "cell_type": "code",
   "execution_count": 5,
   "id": "12355201",
   "metadata": {
    "scrolled": false
   },
   "outputs": [
    {
     "name": "stdout",
     "output_type": "stream",
     "text": [
      " * ngrok tunnel \"https://3c0f-36-232-107-239.ngrok.io\" -> \"http://127.0.0.1:5000/\"\n",
      " * Serving Flask app '__main__' (lazy loading)\n",
      " * Environment: production\n",
      "   WARNING: This is a development server. Do not use it in a production deployment.\n",
      "   Use a production WSGI server instead.\n",
      " * Debug mode: off\n"
     ]
    },
    {
     "name": "stderr",
     "output_type": "stream",
     "text": [
      " * Running on http://127.0.0.1:5000/ (Press CTRL+C to quit)\n",
      "127.0.0.1 - - [09/Sep/2022 11:34:21] \"POST /callback HTTP/1.1\" 200 -\n",
      "127.0.0.1 - - [09/Sep/2022 11:34:30] \"POST /callback HTTP/1.1\" 200 -\n",
      "t=2022-09-09T12:38:10+0800 lvl=eror msg=\"heartbeat timeout, terminating session\" obj=csess id=02260a8329b3 clientid=0cb7f4da4aeb6deda8ead3d3696eeb7a\n",
      "t=2022-09-09T12:38:10+0800 lvl=eror msg=\"session closed, starting reconnect loop\" obj=csess id=c5a2d8337762 err=\"session closed\"\n",
      "127.0.0.1 - - [09/Sep/2022 12:41:44] \"POST /callback HTTP/1.1\" 200 -\n",
      "127.0.0.1 - - [09/Sep/2022 12:42:11] \"POST /callback HTTP/1.1\" 200 -\n",
      "t=2022-09-09T15:08:13+0800 lvl=eror msg=\"heartbeat timeout, terminating session\" obj=csess id=24cb7416abdf clientid=0cb7f4da4aeb6deda8ead3d3696eeb7a\n",
      "t=2022-09-09T15:08:13+0800 lvl=eror msg=\"session closed, starting reconnect loop\" obj=csess id=c5a2d8337762 err=\"session closed\"\n",
      "t=2022-09-09T15:08:23+0800 lvl=eror msg=\"failed to reconnect session\" obj=csess id=c5a2d8337762 err=\"dial tcp: i/o timeout\"\n",
      "t=2022-09-09T15:08:24+0800 lvl=eror msg=\"failed to reconnect session\" obj=csess id=c5a2d8337762 err=\"dial tcp: lookup tunnel.us.ngrok.com: no such host\"\n",
      "t=2022-09-09T15:08:24+0800 lvl=eror msg=\"failed to reconnect session\" obj=csess id=c5a2d8337762 err=\"Get \\\"https://dns.google.com/resolve?cd=true&name=tunnel.us.ngrok.com&type=AAAA\\\": dial tcp: lookup dns.google.com: no such host\"\n",
      "t=2022-09-09T15:08:26+0800 lvl=eror msg=\"failed to reconnect session\" obj=csess id=c5a2d8337762 err=\"Get \\\"https://s3.amazonaws.com/dns.ngrok.com/tunnel.json\\\": dial tcp: lookup s3.amazonaws.com: no such host\"\n",
      "t=2022-09-09T15:08:28+0800 lvl=eror msg=\"failed to reconnect session\" obj=csess id=c5a2d8337762 err=\"resolved tunnel.us.ngrok.com has no records\"\n",
      "t=2022-09-09T15:08:31+0800 lvl=eror msg=\"failed to reconnect session\" obj=csess id=c5a2d8337762 err=\"dial tcp: lookup tunnel.us.ngrok.com: no such host\"\n",
      "t=2022-09-09T15:08:35+0800 lvl=eror msg=\"failed to reconnect session\" obj=csess id=c5a2d8337762 err=\"Get \\\"https://dns.google.com/resolve?cd=true&name=tunnel.us.ngrok.com&type=AAAA\\\": dial tcp: lookup dns.google.com: no such host\"\n",
      "t=2022-09-09T15:08:45+0800 lvl=eror msg=\"failed to reconnect session\" obj=csess id=c5a2d8337762 err=\"x509: certificate is valid for tunnel.us.ngrok.com, not korgn.su.lennut.com\"\n",
      "t=2022-09-09T15:08:54+0800 lvl=eror msg=\"failed to reconnect session\" obj=csess id=c5a2d8337762 err=\"resolved tunnel.us.ngrok.com has no records\"\n"
     ]
    }
   ],
   "source": [
    "##  鸚鵡機器人 --- for jupyter\n",
    "## LINE Developers  https://developers.line.biz/zh-hant/\n",
    "\n",
    "from flask import Flask, request, abort\n",
    "\n",
    "from linebot import (\n",
    "    LineBotApi, WebhookHandler\n",
    ")\n",
    "from linebot.exceptions import (\n",
    "    InvalidSignatureError\n",
    ")\n",
    "from linebot.models import (\n",
    "    MessageEvent, TextMessage, TextSendMessage,\n",
    ")\n",
    "\n",
    "from linebot.models import *\n",
    "\n",
    "#connNgrok()\n",
    "######################################################################################\n",
    "from pyngrok import ngrok, conf\n",
    "\n",
    "# 設定token\n",
    "# ngrok.set_auth_token(\"申請的AuthToken\")\n",
    "ngrok.set_auth_token(\"2CzB2v0oWZcnGvnQuSqusdZabLp_4HzWk7dpH8a218ueEYa3b\")\n",
    "# conf.get_default().region = \"us\"\n",
    "\n",
    "# 顯示執行埠位\n",
    "port = 5000\n",
    "public_url = ngrok.connect(port, bind_tls=True).public_url\n",
    "print(\" * ngrok tunnel \\\"{}\\\" -> \\\"http://127.0.0.1:{}/\\\"\".format(public_url, port))\n",
    "##########################################################################################\n",
    "\n",
    "import re\n",
    "\n",
    "app = Flask(__name__)\n",
    "\n",
    "# 語法\n",
    "#line_bot_api = LineBotApi('YOUR_CHANNEL_ACCESS_TOKEN')\n",
    "#handler = WebhookHandler('YOUR_CHANNEL_SECRET')\n",
    "\n",
    "line_bot_api = LineBotApi('WYaj8fhj1VpiBAuL1XmtO8cBzKC/Ry1NJbrPQTKTIYkKLYQAD1L6ORMbkntzSiEg8FU6FUss//9XJv49GIKPjGlkVeWqLP5jKn2Ndt6bGQnkOA6sXEyb8KbTBChj3lddDzys4IAnWKg5voxhn0xERwdB04t89/1O/w1cDnyilFU=') #YOUR_CHANNEL_ACCESS_TOKEN\n",
    "handler = WebhookHandler('fefe82511eb8ae3983a92deee622c981') #YOUR_CHANNEL_SECRET\n",
    "\n",
    "# 監聽所有來自 /callback 的 Post Request\n",
    "@app.route(\"/callback\", methods=['POST'])    #Line bot 僅採用 \"POST\" 方式\n",
    "def callback():\n",
    "    # get X-Line-Signature header value\n",
    "    signature = request.headers['X-Line-Signature']\n",
    "\n",
    "    # get request body as text\n",
    "    body = request.get_data(as_text=True)\n",
    "    app.logger.info(\"Request body: \" + body)\n",
    "\n",
    "    # handle webhook body\n",
    "    try:\n",
    "        handler.handle(body, signature)\n",
    "    except InvalidSignatureError:\n",
    "        print(\"Invalid signature. Please check your channel access token/channel secret.\")\n",
    "        abort(400)\n",
    "\n",
    "    return 'OK'\n",
    "\n",
    "\n",
    "#訊息傳遞區塊\n",
    "##### 基本上程式編輯都在這個function #####\n",
    "'''Case I\n",
    "@handler.add(MessageEvent, message=TextMessage)\n",
    "def handle_message(event):\n",
    "    line_bot_api.reply_message(\n",
    "        event.reply_token,\n",
    "        #TextSendMessage(text=event.message.text))\n",
    "        TextSendMessage(text='這是要回覆的訊息'))\n",
    "'''\n",
    "\n",
    "# Case II 選單功能\n",
    "@handler.add(MessageEvent, message=TextMessage)\n",
    "def handle_message(event):\n",
    "    message = text=event.message.text\n",
    "    if re.match('告訴我秘密',message):\n",
    "        flex_message = TextSendMessage(text='以下訊息，請Follow !!',\n",
    "                                quick_reply=QuickReply(items=[\n",
    "                                    QuickReplyButton(action=MessageAction(label=\"按我_2303\", text=\"2303盤整中！\")),\n",
    "                                    QuickReplyButton(action=MessageAction(label=\"按我_2409\", text=\"2409多頭！\")),\n",
    "                                    QuickReplyButton(action=MessageAction(label=\"按我_2352\", text=\"按！\")),\n",
    "                                    QuickReplyButton(action=MessageAction(label=\"按我_8215\", text=\"你按屁喔！爆炸了拉！！\")),\n",
    "                                    QuickReplyButton(action=MessageAction(label=\"按我_8163\", text=\"按！\")),\n",
    "                                    QuickReplyButton(action=MessageAction(label=\"按我_3033\", text=\"按！\")),\n",
    "                                    QuickReplyButton(action=MessageAction(label=\"按我_3511\", text=\"按！\")),\n",
    "                                    QuickReplyButton(action=MessageAction(label=\"按我_2402\", text=\"按！\")),\n",
    "                                    QuickReplyButton(action=MessageAction(label=\"按我_1513\", text=\"按！\"))\n",
    "                                ]))\n",
    "        line_bot_api.reply_message(event.reply_token, flex_message)\n",
    "    else:\n",
    "        line_bot_api.reply_message(event.reply_token, TextSendMessage(message))\n",
    "\n",
    "# 按鈕最多 13個按鈕,  label 最多20個字\n",
    "\n",
    "    \n",
    "#執行程式碼，所以記得加上以下的程式碼，以表示執行\n",
    "#主程式\n",
    "import os\n",
    "if __name__ == \"__main__\":\n",
    "    #port = int(os.environ.get('PORT', 5000))\n",
    "    #app.run(host='0.0.0.0', port=port)\n",
    "    app.run()\n",
    "    \n",
    "## Note 先 windows+R  cmd 下執行  ngrok config add-authtoken 2CzB2v0oWZcnGvnQuSqusdZabLp_4HzWk7dpH8a218ueEYa3b\n",
    "## line Develop     https://developers.line.biz/console/channel/1657377218\n",
    "\n",
    "## 至 line Develop - Messaging API 下, Webhook settings 之 Webhook URL 改成\n",
    "##  \"https://2ce4-36-232-43-58.ngrok.io/callback\"  \n",
    "\n",
    "## 連結至  ngrok tunnel \"https://2ce4-36-232-43-58.ngrok.io\"   接著按下 \"Visit Site\""
   ]
  },
  {
   "cell_type": "code",
   "execution_count": null,
   "id": "9c4cd326",
   "metadata": {},
   "outputs": [],
   "source": []
  },
  {
   "cell_type": "code",
   "execution_count": null,
   "id": "0b3b19cb",
   "metadata": {},
   "outputs": [],
   "source": []
  },
  {
   "cell_type": "code",
   "execution_count": null,
   "id": "16e66c0d",
   "metadata": {},
   "outputs": [],
   "source": []
  },
  {
   "cell_type": "code",
   "execution_count": null,
   "id": "1744e55b",
   "metadata": {},
   "outputs": [],
   "source": []
  },
  {
   "cell_type": "code",
   "execution_count": null,
   "id": "bdd2da12",
   "metadata": {},
   "outputs": [],
   "source": [
    "#!pip install --user -U flask"
   ]
  },
  {
   "cell_type": "code",
   "execution_count": 1,
   "id": "28427661",
   "metadata": {},
   "outputs": [
    {
     "name": "stdout",
     "output_type": "stream",
     "text": [
      "Name: Flask\n",
      "Version: 2.0.2\n",
      "Summary: A simple framework for building complex web applications.\n",
      "Home-page: https://palletsprojects.com/p/flask\n",
      "Author: Armin Ronacher\n",
      "Author-email: armin.ronacher@active-4.com\n",
      "License: BSD-3-Clause\n",
      "Location: c:\\users\\ju\\appdata\\roaming\\python\\python38\\site-packages\n",
      "Requires: Werkzeug, click, itsdangerous, Jinja2\n",
      "Required-by: FinMind, jupyter-dash, Flask-Compress, Flask-Caching, deepface, dash\n",
      "Note: you may need to restart the kernel to use updated packages.\n"
     ]
    }
   ],
   "source": [
    "pip show flask"
   ]
  },
  {
   "cell_type": "markdown",
   "id": "6328900f",
   "metadata": {},
   "source": [
    "【筆記】Flask 快速入門\n",
    "載入模組\n",
    "新增路由\n",
    "新增自訂函式\n",
    "啟動服務\n",
    "預設位址、埠位\n",
    "自訂埠位\n",
    "開發位址\n",
    "單一路由\n",
    "多路由到同一網址\n",
    "Restful網址傳值\n",
    "GET傳值\n",
    "POST傳值"
   ]
  },
  {
   "cell_type": "code",
   "execution_count": 5,
   "id": "c7050144",
   "metadata": {},
   "outputs": [
    {
     "name": "stdout",
     "output_type": "stream",
     "text": [
      " * Serving Flask app '__main__' (lazy loading)\n",
      " * Environment: production\n",
      "   WARNING: This is a development server. Do not use it in a production deployment.\n",
      "   Use a production WSGI server instead.\n",
      " * Debug mode: off\n"
     ]
    },
    {
     "name": "stderr",
     "output_type": "stream",
     "text": [
      " * Running on all addresses.\n",
      "   WARNING: This is a development server. Do not use it in a production deployment.\n",
      " * Running on http://192.168.1.100:5000/ (Press CTRL+C to quit)\n",
      "192.168.137.1 - - [02/Aug/2022 15:16:46] \"GET / HTTP/1.1\" 200 -\n",
      "192.168.1.100 - - [02/Aug/2022 15:17:30] \"GET / HTTP/1.1\" 200 -\n"
     ]
    }
   ],
   "source": [
    "# 基本語法\n",
    "from flask import Flask\n",
    "app = Flask(__name__)\n",
    "\n",
    "@app.route(\"/\")\n",
    "def index():\n",
    "    return \"Hello World\"\n",
    "\n",
    "if __name__ == '__main__':\n",
    "    app.run(host=\"0.0.0.0\", port=\"8080\") # 這樣就不會被受限\n",
    "    #app.run(host=\"192.168.1.100\")\n",
    "    \n",
    "# 查詢埠位服務指令\n",
    "# netstat -p tcp\n",
    "# netstat -a (查詢全部)"
   ]
  },
  {
   "cell_type": "code",
   "execution_count": null,
   "id": "957adb85",
   "metadata": {},
   "outputs": [],
   "source": [
    "# 新增多個路由\n",
    "from flask import Flask\n",
    "app = Flask(__name__)\n",
    "\n",
    "@app.route('/')\n",
    "def index():\n",
    "    return \"Hello World.\"\n",
    "\n",
    "@app.route(\"/David\")\n",
    "def index1():\n",
    "    return \"Hello David.\"\n",
    "\n",
    "if __name__ == \"__main__\":\n",
    "    app.run()"
   ]
  },
  {
   "cell_type": "code",
   "execution_count": null,
   "id": "1f5b49f8",
   "metadata": {},
   "outputs": [],
   "source": [
    "# 多路由指向同一頁面\n",
    "from flask import Flask\n",
    "app = Flask(__name__)\n",
    "\n",
    "@app.route('/')\n",
    "@app.route('/index')\n",
    "def index():\n",
    "    return \"Hello World\"\n",
    "    \n",
    "if __name__ == \"__main__\":\n",
    "    app.run()"
   ]
  },
  {
   "cell_type": "code",
   "execution_count": null,
   "id": "ec80f8ff",
   "metadata": {},
   "outputs": [],
   "source": [
    "# 用路由名稱帶參數\n",
    "from flask import Flask\n",
    "app = Flask(__name__)\n",
    "\n",
    "@app.route('/')\n",
    "def index():\n",
    "    return \"Hello World.\"\n",
    "\n",
    "@app.route(\"/<name>\")\n",
    "def index1(name):\n",
    "    return f\"Hello, {name}.\"\n",
    "\n",
    "if __name__ == \"__main__\":\n",
    "    app.run()"
   ]
  },
  {
   "cell_type": "code",
   "execution_count": null,
   "id": "4dbd8915",
   "metadata": {},
   "outputs": [],
   "source": [
    "# GET參數\n",
    "from flask import Flask, request\n",
    "app = Flask(__name__)\n",
    "\n",
    "@app.route('/')\n",
    "def index():\n",
    "    name = request.args.get('name')\n",
    "    return f\"Hello, {name}.\"\n",
    "\n",
    "if __name__ == \"__main__\":\n",
    "    app.run()"
   ]
  },
  {
   "cell_type": "code",
   "execution_count": null,
   "id": "b791c29e",
   "metadata": {},
   "outputs": [],
   "source": [
    "# GET多個參數\n",
    "from flask import Flask, request\n",
    "app = Flask(__name__)\n",
    "\n",
    "@app.route('/')\n",
    "def index():\n",
    "    name = request.args.get('name')\n",
    "    age = request.args.get('age')\n",
    "    return f\"My name is {name}, I am {age} years old.\"\n",
    "\n",
    "if __name__ == \"__main__\":\n",
    "    app.run()"
   ]
  },
  {
   "cell_type": "code",
   "execution_count": 1,
   "id": "721739b7",
   "metadata": {},
   "outputs": [
    {
     "name": "stdout",
     "output_type": "stream",
     "text": [
      " * Serving Flask app '__main__' (lazy loading)\n",
      " * Environment: production\n",
      "   WARNING: This is a development server. Do not use it in a production deployment.\n",
      "   Use a production WSGI server instead.\n",
      " * Debug mode: off\n"
     ]
    },
    {
     "name": "stderr",
     "output_type": "stream",
     "text": [
      " * Running on http://127.0.0.1:5000/ (Press CTRL+C to quit)\n",
      "127.0.0.1 - - [06/Aug/2022 21:01:30] \"GET / HTTP/1.1\" 200 -\n",
      "127.0.0.1 - - [06/Aug/2022 21:01:30] \"GET /favicon.ico HTTP/1.1\" 404 -\n",
      "127.0.0.1 - - [06/Aug/2022 21:01:52] \"GET /?name=Sean HTTP/1.1\" 200 -\n"
     ]
    }
   ],
   "source": [
    "# GET參數, 使用表單\n",
    "from flask import Flask, request\n",
    "app = Flask(__name__)\n",
    "\n",
    "@app.route('/')\n",
    "def index():\n",
    "    if request.method == 'GET' and request.args.get(\"name\") != None:\n",
    "        name = request.args.get('name')\n",
    "        return f'Hello, {name}.'\n",
    "    return \"\"\"\n",
    "    <form method='get'>\n",
    "        <input type='text' name='name'>\n",
    "        <button type='submit'>Submit 送出</button>\n",
    "    </form>\n",
    "    \"\"\"\n",
    "\n",
    "if __name__ == \"__main__\":\n",
    "    app.run()"
   ]
  },
  {
   "cell_type": "code",
   "execution_count": null,
   "id": "6b37917d",
   "metadata": {},
   "outputs": [],
   "source": [
    "# POST參數\n",
    "from flask import Flask, request\n",
    "app = Flask(__name__)\n",
    "\n",
    "@app.route('/', methods=['GET', 'POST'])\n",
    "def index():\n",
    "    if request.method == 'POST':\n",
    "        name = request.form.get('name')\n",
    "        # request.values.get('name')\n",
    "        return f\"Hello, {name}.\"\n",
    "    \n",
    "    return \"\"\"\n",
    "    <form method='post'>\n",
    "        <input type='text' name='name'>\n",
    "        <button type='submit'>Submit</button>\n",
    "    </form>\n",
    "    \"\"\"\n",
    "if __name__ == \"__main__\":\n",
    "    app.run()"
   ]
  },
  {
   "cell_type": "markdown",
   "id": "832b46d4",
   "metadata": {},
   "source": [
    "Flask Web APP 開發"
   ]
  },
  {
   "cell_type": "markdown",
   "id": "3624a916",
   "metadata": {},
   "source": [
    "範例：BMI計算器\n",
    "計算公式\n",
    "BMI=體重(kg)/身高(m)2"
   ]
  },
  {
   "cell_type": "markdown",
   "id": "c68fa861",
   "metadata": {},
   "source": [
    "一、BMI計算程式"
   ]
  },
  {
   "cell_type": "code",
   "execution_count": 7,
   "id": "df2fa995",
   "metadata": {},
   "outputs": [
    {
     "name": "stdout",
     "output_type": "stream",
     "text": [
      "請輸入你的身高(cm):178\n",
      "請輸入你的體重(kg):63\n",
      "你的BMI值為 19.88 \n"
     ]
    }
   ],
   "source": [
    "# BMI計算器\n",
    "h = int(input(\"請輸入你的身高(cm):\"))\n",
    "w = int(input(\"請輸入你的體重(kg):\"))\n",
    "bmi = w / (h / 100) ** 2\n",
    "print(f\"你的BMI值為 {bmi:.2f} \")"
   ]
  },
  {
   "cell_type": "code",
   "execution_count": 8,
   "id": "ad596023",
   "metadata": {},
   "outputs": [
    {
     "name": "stdout",
     "output_type": "stream",
     "text": [
      "請輸入你的身高(cm):178.5\n",
      "請輸入你的體重(kg):62.5\n",
      "你的BMI值為 19.62 \n"
     ]
    }
   ],
   "source": [
    "# BMI計算器\n",
    "h = float(input(\"請輸入你的身高(cm):\"))\n",
    "w = float(input(\"請輸入你的體重(kg):\"))\n",
    "bmi = w / (h / 100) ** 2\n",
    "print(f\"你的BMI值為 {bmi:.2f} \")"
   ]
  },
  {
   "cell_type": "code",
   "execution_count": 9,
   "id": "68a3f8d0",
   "metadata": {},
   "outputs": [
    {
     "name": "stdout",
     "output_type": "stream",
     "text": [
      "請輸入你的身高(cm):178.7\n",
      "請輸入你的體重(kg):62.5\n",
      "你的BMI值為 19.57 \n"
     ]
    }
   ],
   "source": [
    "# BMI計算器 自訂函式\n",
    "def getBMI(w, h):\n",
    "    bmi = w / (h / 100) ** 2\n",
    "    return bmi\n",
    "\n",
    "h = float(input(\"請輸入你的身高(cm):\"))\n",
    "w = float(input(\"請輸入你的體重(kg):\"))\n",
    "print(f\"你的BMI值為 {getBMI(w, h):.2f} \")"
   ]
  },
  {
   "cell_type": "code",
   "execution_count": 2,
   "id": "fec157e1",
   "metadata": {},
   "outputs": [
    {
     "name": "stdout",
     "output_type": "stream",
     "text": [
      " * Serving Flask app '__main__' (lazy loading)\n",
      " * Environment: production\n",
      "   WARNING: This is a development server. Do not use it in a production deployment.\n",
      "   Use a production WSGI server instead.\n",
      " * Debug mode: off\n"
     ]
    },
    {
     "name": "stderr",
     "output_type": "stream",
     "text": [
      " * Running on http://127.0.0.1:5000/ (Press CTRL+C to quit)\n",
      "127.0.0.1 - - [06/Aug/2022 21:17:23] \"GET / HTTP/1.1\" 200 -\n",
      "127.0.0.1 - - [06/Aug/2022 21:17:35] \"POST / HTTP/1.1\" 200 -\n"
     ]
    }
   ],
   "source": [
    "# BMI計算器 網頁應用程式(一)\n",
    "from flask import Flask, request\n",
    "app = Flask(__name__)\n",
    "\n",
    "@app.route('/', methods=['GET', 'POST'])\n",
    "def index():\n",
    "    if request.method == \"POST\":\n",
    "        if request.form.get('w') != '' and request.form.get('h') != '':\n",
    "            w = float(request.form.get('w'))\n",
    "            h = float(request.form.get('h'))\n",
    "            bmi = w / (h / 100) ** 2\n",
    "            return f\"你的BMI值為 {bmi:.2f} \"\n",
    "        \n",
    "    return \"\"\"\n",
    "    <form method='post'>\n",
    "        <label for 'h'>身高(cm)</label>\n",
    "        <input type='text' name='h' id='h'><br>\n",
    "        <label for 'w'>體重(kg)</label>\n",
    "        <input type='text' name='w' id='w'><br>\n",
    "        <button type='submit'>計算</button>\n",
    "    </form>\n",
    "    \"\"\"\n",
    "\n",
    "if __name__ == \"__main__\":\n",
    "    app.run()"
   ]
  },
  {
   "cell_type": "code",
   "execution_count": 1,
   "id": "de7eb022",
   "metadata": {},
   "outputs": [
    {
     "name": "stdout",
     "output_type": "stream",
     "text": [
      " * Serving Flask app '__main__' (lazy loading)\n",
      " * Environment: production\n",
      "   WARNING: This is a development server. Do not use it in a production deployment.\n",
      "   Use a production WSGI server instead.\n",
      " * Debug mode: off\n"
     ]
    },
    {
     "name": "stderr",
     "output_type": "stream",
     "text": [
      " * Running on http://127.0.0.1:5000/ (Press CTRL+C to quit)\n",
      "127.0.0.1 - - [07/Aug/2022 20:43:41] \"GET / HTTP/1.1\" 200 -\n",
      "127.0.0.1 - - [07/Aug/2022 20:43:41] \"GET /favicon.ico HTTP/1.1\" 404 -\n",
      "127.0.0.1 - - [07/Aug/2022 20:44:29] \"GET / HTTP/1.1\" 200 -\n",
      "127.0.0.1 - - [07/Aug/2022 20:44:29] \"GET /favicon.ico HTTP/1.1\" 404 -\n",
      "127.0.0.1 - - [07/Aug/2022 20:44:42] \"GET / HTTP/1.1\" 200 -\n",
      "127.0.0.1 - - [07/Aug/2022 20:45:27] \"POST / HTTP/1.1\" 200 -\n"
     ]
    }
   ],
   "source": [
    "# BMI計算器 網頁應用程式(二)\n",
    "from flask import Flask, request\n",
    "app = Flask(__name__)\n",
    "\n",
    "def getBMI(w, h):\n",
    "    bmi = w / (h / 100) ** 2\n",
    "    return bmi\n",
    "\n",
    "@app.route('/', methods=['GET', 'POST'])\n",
    "def index():\n",
    "    if request.method == \"POST\":\n",
    "        if request.form.get('w') != '' and request.form.get('h') != '':\n",
    "            w = float(request.form.get('w'))\n",
    "            h = float(request.form.get('h'))            \n",
    "            return f\"你的BMI值為 {getBMI(w, h):.2f} \"\n",
    "        \n",
    "    return \"\"\"\n",
    "    <form method='post'>\n",
    "        <label for 'h'>身高(cm)</label>\n",
    "        <input type='text' name='h' id='h'><br>\n",
    "        <label for 'w'>體重(kg)</label>\n",
    "        <input type='text' name='w' id='w'><br>\n",
    "        <button type='submit'>計算</button>\n",
    "    </form>\n",
    "    \"\"\"\n",
    "\n",
    "if __name__ == \"__main__\":\n",
    "    app.run()"
   ]
  },
  {
   "cell_type": "markdown",
   "id": "918ad0ee",
   "metadata": {},
   "source": [
    "二、BMI Web App 開發\n",
    "注意事項\n",
    "在設定路由時要加上允許接收方式 methods=[\"GET\", \"POST\"]。\n",
    "POST用 request.values.get 接收參數值。\n",
    "接收的參數值，資料型態為字串，如果要運算，記得要轉資料型別，並儲存到變數之中。\n",
    "return 的值，資料型態一定要是字串，所以記得要由別的資料型態轉回來。"
   ]
  },
  {
   "cell_type": "markdown",
   "id": "9ae02c08",
   "metadata": {},
   "source": [
    "連接資料來源"
   ]
  },
  {
   "cell_type": "markdown",
   "id": "19fe8d67",
   "metadata": {},
   "source": [
    "範例：線上國語字典"
   ]
  },
  {
   "cell_type": "markdown",
   "id": "8376769f",
   "metadata": {},
   "source": [
    "一、認識字典"
   ]
  },
  {
   "cell_type": "code",
   "execution_count": null,
   "id": "4fc2cab8",
   "metadata": {},
   "outputs": [],
   "source": [
    "# 字典設定(一)\n",
    "dict1 = {\n",
    "    \"身高\":180,\n",
    "    \"體重\":80,\n",
    "    \"年紀\":18\n",
    "}\n",
    "type(dict1)\n",
    "\n",
    "# 取值\n",
    "# dict1[\"身高\"]\n",
    "dict1[\"體重\"]"
   ]
  },
  {
   "cell_type": "code",
   "execution_count": null,
   "id": "b5f75873",
   "metadata": {},
   "outputs": [],
   "source": [
    "# 字典設定(二)\n",
    "dict2 = {\n",
    "    \"身高\":180,\n",
    "    \"體重\":80,\n",
    "    \"年紀\":18,\n",
    "    \"學歷\":['快樂國小', '幸福國中', '成功高中', '勝利大學']\n",
    "}\n",
    "# type(dict2)\n",
    "dict2['學歷'][2]"
   ]
  },
  {
   "cell_type": "code",
   "execution_count": null,
   "id": "eb88096a",
   "metadata": {},
   "outputs": [],
   "source": [
    "# 字典設定(三)\n",
    "dict3 = {\n",
    "    \"身高\":180,\n",
    "    \"體重\":80,\n",
    "    \"年紀\":18,\n",
    "    \"學歷\":{\n",
    "        \"國小\":\"快樂國小\",\n",
    "        \"國中\":\"幸福國中\",\n",
    "        \"高中\":\"成功高中\",\n",
    "        \"大學\":\"勝利大學\"\n",
    "        }\n",
    "    }\n",
    "type(dict3)"
   ]
  },
  {
   "cell_type": "code",
   "execution_count": null,
   "id": "9e18d9bb",
   "metadata": {},
   "outputs": [],
   "source": [
    "dict3['學歷']['大學']"
   ]
  },
  {
   "cell_type": "markdown",
   "id": "9aec9cca",
   "metadata": {},
   "source": [
    "二、json資料讀取\n",
    "萌典\n",
    "\n",
    "網站 https://www.moedict.tw/\n",
    "github https://github.com/g0v/moedict-webkit\n",
    "讀取遠端資料\n",
    "\n",
    "json資料分析練習\n",
    "\n",
    "json模組使用\n",
    "json資料分析：jsonviewer\n",
    "列印json資料"
   ]
  },
  {
   "cell_type": "markdown",
   "id": "07ae5825",
   "metadata": {},
   "source": [
    "三、國語字典程式"
   ]
  },
  {
   "cell_type": "code",
   "execution_count": null,
   "id": "ad40f05f",
   "metadata": {},
   "outputs": [],
   "source": [
    "##  pip install --upgrade nbconvert\n",
    "#my problem:500 : Internal Server Error"
   ]
  },
  {
   "cell_type": "markdown",
   "id": "d90de556",
   "metadata": {},
   "source": [
    "使用 ngrok 讓外網連接你的 API\n",
    "## https://ngrok.com/    for 註冊  密碼10位數--123桃園\n",
    "一、ngrok 申請與下載\n",
    "    https://ngrok.com/ \n",
    "    \n",
    "    ngrok config add-authtoken 2CzB2v0oWZcnGvnQuSqusdZabLp_4HzWk7dpH8a218ueEYa3b\n",
    "    \n",
    "    ngrok config add-authtoken 2CzB2v0oWZcnGvnQuSqusdZabLp_4HzWk7dpH8a218ueEYa3b"
   ]
  },
  {
   "cell_type": "code",
   "execution_count": null,
   "id": "5f6a5edb",
   "metadata": {},
   "outputs": [],
   "source": [
    "# 下載ngrok、解壓縮\n",
    "!wget https://bin.equinox.io/c/bNyj1mQVY4c/ngrok-v3-stable-linux-amd64.tgz -O ngrok-v3-stable-linux-amd64.tgz\n",
    "!tar xvzf ngrok-v3-stable-linux-amd64.tgz"
   ]
  },
  {
   "cell_type": "code",
   "execution_count": null,
   "id": "12a0076e",
   "metadata": {},
   "outputs": [],
   "source": []
  },
  {
   "cell_type": "code",
   "execution_count": null,
   "id": "261eb8ea",
   "metadata": {},
   "outputs": [],
   "source": []
  },
  {
   "cell_type": "markdown",
   "id": "cbe9778e",
   "metadata": {},
   "source": [
    "在 Colab 上執行 Flask"
   ]
  },
  {
   "cell_type": "markdown",
   "id": "63c0d0b1",
   "metadata": {},
   "source": [
    "一、ngrok 申請與下載"
   ]
  },
  {
   "cell_type": "markdown",
   "id": "55423cff",
   "metadata": {},
   "source": [
    "二、pyngrok 的安裝與設定 for colab"
   ]
  },
  {
   "cell_type": "code",
   "execution_count": null,
   "id": "c04de1d3",
   "metadata": {},
   "outputs": [],
   "source": [
    "#!pip install pyngrok"
   ]
  },
  {
   "cell_type": "code",
   "execution_count": null,
   "id": "863cddbc",
   "metadata": {},
   "outputs": [],
   "source": [
    "#!pip show pyngrok"
   ]
  },
  {
   "cell_type": "markdown",
   "id": "97fb7fb4",
   "metadata": {},
   "source": [
    "三、執行你第一個Flask程式"
   ]
  },
  {
   "cell_type": "code",
   "execution_count": 2,
   "id": "fe9f9a47",
   "metadata": {},
   "outputs": [],
   "source": [
    "from pyngrok import ngrok, conf\n",
    "\n",
    "# 設定token\n",
    "# ngrok.set_auth_token(\"申請的AuthToken\")\n",
    "ngrok.set_auth_token(\"2CzB2v0oWZcnGvnQuSqusdZabLp_4HzWk7dpH8a218ueEYa3b\")\n",
    "# conf.get_default().region = \"us\""
   ]
  },
  {
   "cell_type": "code",
   "execution_count": 3,
   "id": "9bfa57de",
   "metadata": {},
   "outputs": [
    {
     "name": "stdout",
     "output_type": "stream",
     "text": [
      " * ngrok tunnel \"https://79f7-36-232-43-58.ngrok.io\" -> \"http://127.0.0.1:5000/\"\n"
     ]
    }
   ],
   "source": [
    "# 顯示執行埠位\n",
    "port = 5000\n",
    "public_url = ngrok.connect(port, bind_tls=True).public_url\n",
    "print(\" * ngrok tunnel \\\"{}\\\" -> \\\"http://127.0.0.1:{}/\\\"\".format(public_url, port))"
   ]
  },
  {
   "cell_type": "markdown",
   "id": "52f72b1d",
   "metadata": {},
   "source": [
    "【筆記】ngrok沒有傳遞其他屬性時的默認行為http是打開兩個隧道，一個http和一個https。pyngrok在這種情況下，connect方法將返回對http隧道的引用。如果只需要一條隧道，則通過bind_tls=True並返回對隧道的引用https。"
   ]
  },
  {
   "cell_type": "code",
   "execution_count": 4,
   "id": "42057d46",
   "metadata": {},
   "outputs": [
    {
     "name": "stdout",
     "output_type": "stream",
     "text": [
      " * Serving Flask app '__main__' (lazy loading)\n",
      " * Environment: production\n",
      "   WARNING: This is a development server. Do not use it in a production deployment.\n",
      "   Use a production WSGI server instead.\n",
      " * Debug mode: off\n"
     ]
    },
    {
     "name": "stderr",
     "output_type": "stream",
     "text": [
      " * Running on http://127.0.0.1:5000/ (Press CTRL+C to quit)\n",
      "127.0.0.1 - - [08/Sep/2022 16:08:41] \"GET / HTTP/1.1\" 200 -\n",
      "127.0.0.1 - - [08/Sep/2022 16:09:00] \"GET / HTTP/1.1\" 200 -\n",
      "127.0.0.1 - - [08/Sep/2022 16:09:01] \"GET /favicon.ico HTTP/1.1\" 404 -\n"
     ]
    }
   ],
   "source": [
    "# 基本測試\n",
    "from flask import Flask\n",
    "app = Flask(__name__)\n",
    "\n",
    "@app.route(\"/\")\n",
    "def index():\n",
    "    return \"Hello World\"\n",
    "\n",
    "if __name__ == '__main__':\n",
    "    app.run()"
   ]
  },
  {
   "cell_type": "code",
   "execution_count": 5,
   "id": "9398072e",
   "metadata": {},
   "outputs": [],
   "source": [
    "#ngrok config add-authtoken 2CzB2v0oWZcnGvnQuSqusdZabLp_4HzWk7dpH8a218ueEYa3b"
   ]
  },
  {
   "cell_type": "code",
   "execution_count": 6,
   "id": "b8ffde17",
   "metadata": {},
   "outputs": [],
   "source": [
    "# 開發連線自訂函式\n",
    "from pyngrok import ngrok\n",
    "\n",
    "def connNgrok():\n",
    "    port = 5000\n",
    "    public_url = ngrok.connect(port, bind_tls=True).public_url\n",
    "    print(\" * ngrok tunnel \\\"{}\\\" -> \\\"http://127.0.0.1:{}/\\\"\".format(public_url, port))"
   ]
  },
  {
   "cell_type": "code",
   "execution_count": 7,
   "id": "8b27c03b",
   "metadata": {},
   "outputs": [
    {
     "name": "stdout",
     "output_type": "stream",
     "text": [
      " * ngrok tunnel \"https://4c3e-36-232-43-58.ngrok.io\" -> \"http://127.0.0.1:5000/\"\n",
      " * Serving Flask app '__main__' (lazy loading)\n",
      " * Environment: production\n",
      "   WARNING: This is a development server. Do not use it in a production deployment.\n",
      "   Use a production WSGI server instead.\n",
      " * Debug mode: off\n"
     ]
    },
    {
     "name": "stderr",
     "output_type": "stream",
     "text": [
      " * Running on http://127.0.0.1:5000/ (Press CTRL+C to quit)\n",
      "127.0.0.1 - - [08/Sep/2022 16:11:01] \"GET / HTTP/1.1\" 200 -\n"
     ]
    }
   ],
   "source": [
    "# 基本測試-使用自訂函式\n",
    "from flask import Flask\n",
    "connNgrok()\n",
    "app = Flask(__name__)\n",
    "\n",
    "@app.route(\"/\")\n",
    "def index():\n",
    "    return \"Hello World\"\n",
    "\n",
    "if __name__ == '__main__':\n",
    "    app.run()"
   ]
  },
  {
   "cell_type": "code",
   "execution_count": null,
   "id": "4f216cc1",
   "metadata": {},
   "outputs": [],
   "source": []
  },
  {
   "cell_type": "code",
   "execution_count": null,
   "id": "f15a90fb",
   "metadata": {},
   "outputs": [],
   "source": []
  },
  {
   "cell_type": "markdown",
   "id": "1c7e4016",
   "metadata": {},
   "source": [
    "LINE Bot機器人申請與架設"
   ]
  },
  {
   "cell_type": "markdown",
   "id": "478aaf51",
   "metadata": {},
   "source": [
    "範例：鸚鵡機器人\n",
    "安裝 Line Bot SDK\n",
    "pip install line-bot-sdk\n",
    "範例程式碼\n",
    "https://github.com/line/line-bot-sdk-python"
   ]
  },
  {
   "cell_type": "code",
   "execution_count": null,
   "id": "d5e78c6d",
   "metadata": {},
   "outputs": [],
   "source": [
    "#pip install line-bot-sdk"
   ]
  },
  {
   "cell_type": "code",
   "execution_count": 8,
   "id": "2c234b84",
   "metadata": {},
   "outputs": [
    {
     "name": "stdout",
     "output_type": "stream",
     "text": [
      " * ngrok tunnel \"https://9bee-36-232-43-58.ngrok.io\" -> \"http://127.0.0.1:5000/\"\n",
      " * Serving Flask app '__main__' (lazy loading)\n",
      " * Environment: production\n",
      "   WARNING: This is a development server. Do not use it in a production deployment.\n",
      "   Use a production WSGI server instead.\n",
      " * Debug mode: off\n"
     ]
    },
    {
     "name": "stderr",
     "output_type": "stream",
     "text": [
      " * Running on http://127.0.0.1:5000/ (Press CTRL+C to quit)\n",
      "127.0.0.1 - - [08/Sep/2022 16:11:56] \"GET / HTTP/1.1\" 200 -\n",
      "127.0.0.1 - - [08/Sep/2022 16:12:40] \"POST /callback HTTP/1.1\" 200 -\n"
     ]
    }
   ],
   "source": [
    "##  鸚鵡機器人 --- for jupyter\n",
    "## LINE Developers  https://developers.line.biz/zh-hant/\n",
    "\n",
    "from flask import Flask, request, abort\n",
    "\n",
    "from linebot import (\n",
    "    LineBotApi, WebhookHandler\n",
    ")\n",
    "from linebot.exceptions import (\n",
    "    InvalidSignatureError\n",
    ")\n",
    "from linebot.models import (\n",
    "    MessageEvent, TextMessage, TextSendMessage,\n",
    ")\n",
    "\n",
    "#connNgrok()\n",
    "######################################################################################\n",
    "from pyngrok import ngrok, conf\n",
    "\n",
    "# 設定token\n",
    "# ngrok.set_auth_token(\"申請的AuthToken\")\n",
    "ngrok.set_auth_token(\"2CzB2v0oWZcnGvnQuSqusdZabLp_4HzWk7dpH8a218ueEYa3b\")\n",
    "# conf.get_default().region = \"us\"\n",
    "\n",
    "# 顯示執行埠位\n",
    "port = 5000\n",
    "public_url = ngrok.connect(port, bind_tls=True).public_url\n",
    "print(\" * ngrok tunnel \\\"{}\\\" -> \\\"http://127.0.0.1:{}/\\\"\".format(public_url, port))\n",
    "##########################################################################################\n",
    "\n",
    "\n",
    "app = Flask(__name__)\n",
    "\n",
    "line_bot_api = LineBotApi('WYaj8fhj1VpiBAuL1XmtO8cBzKC/Ry1NJbrPQTKTIYkKLYQAD1L6ORMbkntzSiEg8FU6FUss//9XJv49GIKPjGlkVeWqLP5jKn2Ndt6bGQnkOA6sXEyb8KbTBChj3lddDzys4IAnWKg5voxhn0xERwdB04t89/1O/w1cDnyilFU=') #YOUR_CHANNEL_ACCESS_TOKEN\n",
    "handler = WebhookHandler('fefe82511eb8ae3983a92deee622c981') #YOUR_CHANNEL_SECRET\n",
    "\n",
    "\n",
    "@app.route(\"/callback\", methods=['POST'])\n",
    "def callback():\n",
    "    # get X-Line-Signature header value\n",
    "    signature = request.headers['X-Line-Signature']\n",
    "\n",
    "    # get request body as text\n",
    "    body = request.get_data(as_text=True)\n",
    "    app.logger.info(\"Request body: \" + body)\n",
    "\n",
    "    # handle webhook body\n",
    "    try:\n",
    "        handler.handle(body, signature)\n",
    "    except InvalidSignatureError:\n",
    "        print(\"Invalid signature. Please check your channel access token/channel secret.\")\n",
    "        abort(400)\n",
    "\n",
    "    return 'OK'\n",
    "\n",
    "\n",
    "@handler.add(MessageEvent, message=TextMessage)\n",
    "def handle_message(event):\n",
    "    line_bot_api.reply_message(\n",
    "        event.reply_token,\n",
    "        TextSendMessage(text=event.message.text))\n",
    "        \n",
    "\n",
    "if __name__ == \"__main__\":\n",
    "    app.run()"
   ]
  },
  {
   "cell_type": "code",
   "execution_count": 4,
   "id": "f704b67f",
   "metadata": {},
   "outputs": [
    {
     "name": "stdout",
     "output_type": "stream",
     "text": [
      " * ngrok tunnel \"https://0515-36-232-43-58.ngrok.io\" -> \"http://127.0.0.1:5000/\"\n",
      " * Serving Flask app '__main__' (lazy loading)\n",
      " * Environment: production\n",
      "   WARNING: This is a development server. Do not use it in a production deployment.\n",
      "   Use a production WSGI server instead.\n",
      " * Debug mode: off\n"
     ]
    },
    {
     "name": "stderr",
     "output_type": "stream",
     "text": [
      " * Running on http://127.0.0.1:5000/ (Press CTRL+C to quit)\n",
      "127.0.0.1 - - [08/Sep/2022 16:54:45] \"GET / HTTP/1.1\" 404 -\n"
     ]
    }
   ],
   "source": [
    "##  鸚鵡機器人 --- for jupyter\n",
    "\n",
    "from flask import Flask, request, abort\n",
    "\n",
    "from linebot import (\n",
    "    LineBotApi, WebhookHandler\n",
    ")\n",
    "from linebot.exceptions import (\n",
    "    InvalidSignatureError\n",
    ")\n",
    "from linebot.models import (\n",
    "    MessageEvent, TextMessage, TextSendMessage,\n",
    ")\n",
    "\n",
    "#connNgrok()\n",
    "######################################################################################\n",
    "from pyngrok import ngrok, conf\n",
    "\n",
    "# 設定token\n",
    "# ngrok.set_auth_token(\"申請的AuthToken\")\n",
    "ngrok.set_auth_token(\"2CzB2v0oWZcnGvnQuSqusdZabLp_4HzWk7dpH8a218ueEYa3b\")\n",
    "# conf.get_default().region = \"us\"\n",
    "\n",
    "# 顯示執行埠位\n",
    "port = 5000\n",
    "public_url = ngrok.connect(port, bind_tls=True).public_url\n",
    "print(\" * ngrok tunnel \\\"{}\\\" -> \\\"http://127.0.0.1:{}/\\\"\".format(public_url, port))\n",
    "##########################################################################################\n",
    "\n",
    "\n",
    "app = Flask(__name__)\n",
    "\n",
    "line_bot_api = LineBotApi('WYaj8fhj1VpiBAuL1XmtO8cBzKC/Ry1NJbrPQTKTIYkKLYQAD1L6ORMbkntzSiEg8FU6FUss//9XJv49GIKPjGlkVeWqLP5jKn2Ndt6bGQnkOA6sXEyb8KbTBChj3lddDzys4IAnWKg5voxhn0xERwdB04t89/1O/w1cDnyilFU=') #YOUR_CHANNEL_ACCESS_TOKEN\n",
    "handler = WebhookHandler('fefe82511eb8ae3983a92deee622c981') #YOUR_CHANNEL_SECRET\n",
    "\n",
    "\n",
    "@app.route(\"/callback\", methods=['POST'])\n",
    "def callback():\n",
    "    # get X-Line-Signature header value\n",
    "    signature = request.headers['X-Line-Signature']\n",
    "\n",
    "    # get request body as text\n",
    "    body = request.get_data(as_text=True)\n",
    "    app.logger.info(\"Request body: \" + body)\n",
    "\n",
    "    # handle webhook body\n",
    "    try:\n",
    "        handler.handle(body, signature)\n",
    "    except InvalidSignatureError:\n",
    "        print(\"Invalid signature. Please check your channel access token/channel secret.\")\n",
    "        abort(400)\n",
    "\n",
    "    return 'OK'\n",
    "\n",
    "\n",
    "@handler.add(MessageEvent, message=TextMessage)\n",
    "def handle_message(event):\n",
    "    line_bot_api.reply_message(\n",
    "        event.reply_token,\n",
    "        TextSendMessage(text='這是要回覆的訊息'))\n",
    "\n",
    "\n",
    "if __name__ == \"__main__\":\n",
    "    app.run()"
   ]
  },
  {
   "cell_type": "code",
   "execution_count": null,
   "id": "836a8f90",
   "metadata": {},
   "outputs": [],
   "source": []
  },
  {
   "cell_type": "code",
   "execution_count": null,
   "id": "89a8f9b2",
   "metadata": {},
   "outputs": [],
   "source": []
  },
  {
   "cell_type": "code",
   "execution_count": null,
   "id": "b839efe9",
   "metadata": {},
   "outputs": [],
   "source": []
  },
  {
   "cell_type": "code",
   "execution_count": null,
   "id": "3227aecc",
   "metadata": {},
   "outputs": [],
   "source": [
    "# LINE Developers  https://developers.line.biz/zh-hant/"
   ]
  },
  {
   "cell_type": "markdown",
   "id": "3e519b46",
   "metadata": {},
   "source": [
    "範例：國語字典 LINE Bot"
   ]
  },
  {
   "cell_type": "markdown",
   "id": "ec3375da",
   "metadata": {},
   "source": [
    "二、json資料讀取\n",
    "萌典\n",
    "\n",
    "網站 https://www.moedict.tw/\n",
    "github https://github.com/g0v/moedict-webkit\n",
    "讀取遠端資料\n",
    "\n",
    "json資料分析練習\n",
    "\n",
    "json模組使用\n",
    "json資料分析：jsonviewer\n",
    "列印json資料"
   ]
  },
  {
   "cell_type": "code",
   "execution_count": 3,
   "id": "634035d0",
   "metadata": {},
   "outputs": [
    {
     "name": "stdout",
     "output_type": "stream",
     "text": [
      "\t{\n",
      "\t\t\"heteronyms\": [\n",
      "\t\t\t{\n",
      "\t\t\t\t\"bopomofo\": \"ㄇㄥˊ\",\n",
      "\t\t\t\t\"bopomofo2\": \"méng\",\n",
      "\t\t\t\t\"definitions\": [\n",
      "\t\t\t\t\t{\n",
      "\t\t\t\t\t\t\"def\": \"草木初生的芽。\",\n",
      "\t\t\t\t\t\t\"quote\": [\n",
      "\t\t\t\t\t\t\t\"說文解字：「萌，艸芽也。」\",\n",
      "\t\t\t\t\t\t\t\"唐．韓愈、劉師服、侯喜、軒轅彌明．石鼎聯句：「秋瓜未落蒂，凍芋強抽萌。」\"\n",
      "\t\t\t\t\t\t],\n",
      "\t\t\t\t\t\t\"type\": \"名\"\n",
      "\t\t\t\t\t},\n",
      "\t\t\t\t\t{\n",
      "\t\t\t\t\t\t\"def\": \"事物發生的開端或徵兆。\",\n",
      "\t\t\t\t\t\t\"quote\": [\n",
      "\t\t\t\t\t\t\t\"韓非子．說林上：「聖人見微以知萌，見端以知末。」\",\n",
      "\t\t\t\t\t\t\t\"漢．蔡邕．對詔問{[9264]}異八事：「以杜漸防萌，則其救也。」\"\n",
      "\t\t\t\t\t\t],\n",
      "\t\t\t\t\t\t\"type\": \"名\"\n",
      "\t\t\t\t\t},\n",
      "\t\t\t\t\t{\n",
      "\t\t\t\t\t\t\"def\": \"人民。\",\n",
      "\t\t\t\t\t\t\"example\": [\n",
      "\t\t\t\t\t\t\t\"如：「萌黎」、「萌隸」。\"\n",
      "\t\t\t\t\t\t],\n",
      "\t\t\t\t\t\t\"link\": [\n",
      "\t\t\t\t\t\t\t\"通「氓」。\"\n",
      "\t\t\t\t\t\t],\n",
      "\t\t\t\t\t\t\"type\": \"名\"\n",
      "\t\t\t\t\t},\n",
      "\t\t\t\t\t{\n",
      "\t\t\t\t\t\t\"def\": \"姓。如五代時蜀有萌慮。\",\n",
      "\t\t\t\t\t\t\"type\": \"名\"\n",
      "\t\t\t\t\t},\n",
      "\t\t\t\t\t{\n",
      "\t\t\t\t\t\t\"def\": \"發芽。\",\n",
      "\t\t\t\t\t\t\"example\": [\n",
      "\t\t\t\t\t\t\t\"如：「萌芽」。\"\n",
      "\t\t\t\t\t\t],\n",
      "\t\t\t\t\t\t\"quote\": [\n",
      "\t\t\t\t\t\t\t\"楚辭．王逸．九思．傷時：「明風習習兮龢暖，百草萌兮華榮。」\"\n",
      "\t\t\t\t\t\t],\n",
      "\t\t\t\t\t\t\"type\": \"動\"\n",
      "\t\t\t\t\t},\n",
      "\t\t\t\t\t{\n",
      "\t\t\t\t\t\t\"def\": \"發生。\",\n",
      "\t\t\t\t\t\t\"example\": [\n",
      "\t\t\t\t\t\t\t\"如：「故態復萌」。\"\n",
      "\t\t\t\t\t\t],\n",
      "\t\t\t\t\t\t\"quote\": [\n",
      "\t\t\t\t\t\t\t\"管子．牧民：「惟有道者，能備患於未形也，故禍不萌。」\",\n",
      "\t\t\t\t\t\t\t\"三國演義．第一回：「若萌異心，必獲惡報。」\"\n",
      "\t\t\t\t\t\t],\n",
      "\t\t\t\t\t\t\"type\": \"動\"\n",
      "\t\t\t\t\t}\n",
      "\t\t\t\t],\n",
      "\t\t\t\t\"pinyin\": \"méng\"\n",
      "\t\t\t}\n",
      "\t\t],\n",
      "\t\t\"non_radical_stroke_count\": 8,\n",
      "\t\t\"radical\": \"艸\",\n",
      "\t\t\"stroke_count\": 12,\n",
      "\t\t\"title\": \"萌\"\n",
      "\t}\n"
     ]
    }
   ],
   "source": [
    "import requests\n",
    "url = 'https://www.moedict.tw/raw/%E8%90%8C'\n",
    "r = requests.get(url).json()\n",
    "print(r['title'])"
   ]
  },
  {
   "cell_type": "code",
   "execution_count": 4,
   "id": "b9074f45",
   "metadata": {},
   "outputs": [
    {
     "name": "stdout",
     "output_type": "stream",
     "text": [
      "萌\n"
     ]
    }
   ],
   "source": [
    "import requests\n",
    "url = 'https://www.moedict.tw/raw/%E8%90%8C'\n",
    "r = requests.get(url).json()\n",
    "print(r['title'])"
   ]
  },
  {
   "cell_type": "code",
   "execution_count": 11,
   "id": "7d69f40a",
   "metadata": {},
   "outputs": [
    {
     "name": "stdout",
     "output_type": "stream",
     "text": [
      "清輸入查詢的國字:祥\n",
      "祥\n",
      "部首: 示\n",
      "11\n"
     ]
    }
   ],
   "source": [
    "import requests\n",
    "word = input(\"請輸入查詢的國字:\")\n",
    "url = 'https://www.moedict.tw/raw/' + word\n",
    "r = requests.get(url).json()\n",
    "print(\"國字: \" + r['title'])\n",
    "print(\"部首: \" + r['radical'])\n",
    "print(\"筆劃: \" + str(r[\"stroke_count\"])"
   ]
  },
  {
   "cell_type": "code",
   "execution_count": null,
   "id": "8dc78cca",
   "metadata": {},
   "outputs": [],
   "source": [
    "import requests\n",
    "def searchWord(word):\n",
    "    url = 'https://www.moedict.tw/raw/' + word\n",
    "    r = requests.get(url).json()\n",
    "    msg = '-'*10\n",
    "    msg += \"\\n國字:\" + r[\"title\"]\n",
    "    msg += \"\\n部首:\" + r[\"radical\"]\n",
    "    msg += \"\\n筆劃:\" + str(r[\"stroke_count\"])\n",
    "    return msg\n",
    "\n",
    "print(searchWord('字'))"
   ]
  },
  {
   "cell_type": "code",
   "execution_count": null,
   "id": "f052cbae",
   "metadata": {},
   "outputs": [],
   "source": []
  },
  {
   "cell_type": "code",
   "execution_count": 12,
   "id": "03eba082",
   "metadata": {},
   "outputs": [
    {
     "name": "stdout",
     "output_type": "stream",
     "text": [
      " * ngrok tunnel \"https://67f6-36-232-44-90.ngrok.io\" -> \"http://127.0.0.1:5000/\"\n",
      " * Serving Flask app '__main__' (lazy loading)\n",
      " * Environment: production\n",
      "   WARNING: This is a development server. Do not use it in a production deployment.\n",
      "   Use a production WSGI server instead.\n",
      " * Debug mode: off\n"
     ]
    },
    {
     "name": "stderr",
     "output_type": "stream",
     "text": [
      " * Running on http://127.0.0.1:5000/ (Press CTRL+C to quit)\n",
      "127.0.0.1 - - [11/Aug/2022 22:31:11] \"POST /callback HTTP/1.1\" 200 -\n"
     ]
    }
   ],
   "source": [
    "##  國語字典 LINE Bot機器人 --- or jupyter\n",
    "## LINE Developers  https://developers.line.biz/zh-hant/\n",
    "\n",
    "from flask import Flask, request, abort\n",
    "\n",
    "from linebot import (\n",
    "    LineBotApi, WebhookHandler\n",
    ")\n",
    "from linebot.exceptions import (\n",
    "    InvalidSignatureError\n",
    ")\n",
    "from linebot.models import (\n",
    "    MessageEvent, TextMessage, TextSendMessage,\n",
    ")\n",
    "\n",
    "############################################################\n",
    "import requests\n",
    "def searchWord(word):\n",
    "    url = 'https://www.moedict.tw/raw/' + word\n",
    "    r = requests.get(url).json()\n",
    "    msg = '-'*10\n",
    "    msg += \"\\n國字:\" + r[\"title\"]\n",
    "    msg += \"\\n部首:\" + r[\"radical\"]\n",
    "    msg += \"\\n筆劃:\" + str(r[\"stroke_count\"])\n",
    "    return msg\n",
    "\n",
    "##########################################################\n",
    "\n",
    "\n",
    "\n",
    "\n",
    "#connNgrok()\n",
    "######################################################################################\n",
    "from pyngrok import ngrok, conf\n",
    "\n",
    "# 設定token\n",
    "# ngrok.set_auth_token(\"申請的AuthToken\")\n",
    "ngrok.set_auth_token(\"2CzB2v0oWZcnGvnQuSqusdZabLp_4HzWk7dpH8a218ueEYa3b\")\n",
    "# conf.get_default().region = \"us\"\n",
    "\n",
    "# 顯示執行埠位\n",
    "port = 5000\n",
    "public_url = ngrok.connect(port, bind_tls=True).public_url\n",
    "print(\" * ngrok tunnel \\\"{}\\\" -> \\\"http://127.0.0.1:{}/\\\"\".format(public_url, port))\n",
    "##########################################################################################\n",
    "\n",
    "\n",
    "app = Flask(__name__)\n",
    "\n",
    "line_bot_api = LineBotApi('WYaj8fhj1VpiBAuL1XmtO8cBzKC/Ry1NJbrPQTKTIYkKLYQAD1L6ORMbkntzSiEg8FU6FUss//9XJv49GIKPjGlkVeWqLP5jKn2Ndt6bGQnkOA6sXEyb8KbTBChj3lddDzys4IAnWKg5voxhn0xERwdB04t89/1O/w1cDnyilFU=') #YOUR_CHANNEL_ACCESS_TOKEN\n",
    "handler = WebhookHandler('fefe82511eb8ae3983a92deee622c981') #YOUR_CHANNEL_SECRET\n",
    "\n",
    "\n",
    "@app.route(\"/callback\", methods=['POST'])\n",
    "def callback():\n",
    "    # get X-Line-Signature header value\n",
    "    signature = request.headers['X-Line-Signature']\n",
    "\n",
    "    # get request body as text\n",
    "    body = request.get_data(as_text=True)\n",
    "    app.logger.info(\"Request body: \" + body)\n",
    "\n",
    "    # handle webhook body\n",
    "    try:\n",
    "        handler.handle(body, signature)\n",
    "    except InvalidSignatureError:\n",
    "        print(\"Invalid signature. Please check your channel access token/channel secret.\")\n",
    "        abort(400)\n",
    "\n",
    "    return 'OK'\n",
    "\n",
    "\n",
    "@handler.add(MessageEvent, message=TextMessage)\n",
    "def handle_message(event):\n",
    "    line_bot_api.reply_message(\n",
    "        event.reply_token,\n",
    "        TextSendMessage(text=searchWord(event.message.text)))\n",
    "        \n",
    "\n",
    "if __name__ == \"__main__\":\n",
    "    app.run()"
   ]
  },
  {
   "cell_type": "code",
   "execution_count": null,
   "id": "7d57a892",
   "metadata": {},
   "outputs": [],
   "source": []
  },
  {
   "cell_type": "code",
   "execution_count": null,
   "id": "a99f317e",
   "metadata": {},
   "outputs": [],
   "source": []
  },
  {
   "cell_type": "code",
   "execution_count": null,
   "id": "4346dc4b",
   "metadata": {},
   "outputs": [],
   "source": []
  },
  {
   "cell_type": "code",
   "execution_count": null,
   "id": "4c06cd03",
   "metadata": {},
   "outputs": [],
   "source": []
  }
 ],
 "metadata": {
  "kernelspec": {
   "display_name": "Python 3",
   "language": "python",
   "name": "python3"
  },
  "language_info": {
   "codemirror_mode": {
    "name": "ipython",
    "version": 3
   },
   "file_extension": ".py",
   "mimetype": "text/x-python",
   "name": "python",
   "nbconvert_exporter": "python",
   "pygments_lexer": "ipython3",
   "version": "3.8.8"
  }
 },
 "nbformat": 4,
 "nbformat_minor": 5
}
